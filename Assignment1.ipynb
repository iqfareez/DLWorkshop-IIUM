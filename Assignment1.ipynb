{
  "nbformat": 4,
  "nbformat_minor": 0,
  "metadata": {
    "colab": {
      "provenance": [],
      "authorship_tag": "ABX9TyOPKFqdSJjPY60EYCISYDcG",
      "include_colab_link": true
    },
    "kernelspec": {
      "name": "python3",
      "display_name": "Python 3"
    },
    "language_info": {
      "name": "python"
    }
  },
  "cells": [
    {
      "cell_type": "markdown",
      "metadata": {
        "id": "view-in-github",
        "colab_type": "text"
      },
      "source": [
        "<a href=\"https://colab.research.google.com/github/iqfareez/DLWorkshop-IIUM/blob/main/Assignment1.ipynb\" target=\"_parent\"><img src=\"https://colab.research.google.com/assets/colab-badge.svg\" alt=\"Open In Colab\"/></a>"
      ]
    },
    {
      "cell_type": "markdown",
      "source": [
        "# Instruction\n",
        "\n",
        "By using google colab code to access your webcam, capture three different facial expressions\n",
        "of yourself.\n",
        "\n",
        "Perform blurring of only faces in those images. *(15 Marks)*"
      ],
      "metadata": {
        "id": "r4alQv3XHhzy"
      }
    },
    {
      "cell_type": "code",
      "source": [],
      "metadata": {
        "id": "TO7AHd_WHsgr"
      },
      "execution_count": null,
      "outputs": []
    }
  ]
}