{
  "nbformat": 4,
  "nbformat_minor": 0,
  "metadata": {
    "colab": {
      "provenance": [],
      "authorship_tag": "ABX9TyNrUthZJrpkjIWETfrADgGE",
      "include_colab_link": true
    },
    "kernelspec": {
      "name": "python3",
      "display_name": "Python 3"
    },
    "language_info": {
      "name": "python"
    }
  },
  "cells": [
    {
      "cell_type": "markdown",
      "metadata": {
        "id": "view-in-github",
        "colab_type": "text"
      },
      "source": [
        "<a href=\"https://colab.research.google.com/github/iqfareez/DLWorkshop-IIUM/blob/main/Assignments/Assignment2.ipynb\" target=\"_parent\"><img src=\"https://colab.research.google.com/assets/colab-badge.svg\" alt=\"Open In Colab\"/></a>"
      ]
    },
    {
      "cell_type": "markdown",
      "source": [
        "# Instruction\n",
        "\n",
        "**Assignment 2** – Submission Deadline: 30/09/2022 11:59PM MYT\n",
        "\n",
        "In our session, we trained Resnet using the fruit dataset and achieved 83% accuracy. On the fruit dataset, you are required to prepare one notebook that can run on google collab containing:\n",
        "\n",
        "1. The training of the model on the dataset after modification to improve the performance of the\n",
        "model. *(5M)*\n",
        "1. The training of the model on the dataset after data-centric strategies.*(5M)*\n",
        "1. Save the final model and load again on the notebook. Perform inference on two new samples (fruit data captured from your phone). *(2Marks)*\n",
        "\n",
        "\\** the model can be any model, custom or your own defined model\n",
        "\n",
        "\\* the deliverables: one notebook containing all the codes, model file (.pt file) and inference\n",
        "images"
      ],
      "metadata": {
        "id": "bkRjAPAkQHWe"
      }
    }
  ]
}